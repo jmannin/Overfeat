{
  "cells": [
    {
      "cell_type": "markdown",
      "metadata": {
        "id": "view-in-github",
        "colab_type": "text"
      },
      "source": [
        "<a href=\"https://colab.research.google.com/github/jmannin/Overfeat/blob/main/DL_Final_Project.ipynb\" target=\"_parent\"><img src=\"https://colab.research.google.com/assets/colab-badge.svg\" alt=\"Open In Colab\"/></a>"
      ]
    },
    {
      "cell_type": "code",
      "execution_count": null,
      "metadata": {
        "id": "ZsKM8UvyKC8h"
      },
      "outputs": [],
      "source": [
        "import tensorflow as tf\n",
        "import numpy as np\n",
        "from keras.layers import Input, Dense, Concatenate, Conv2D, MaxPooling2D, Flatten\n",
        "from keras.models import Model\n",
        "from tensorflow.keras import layers, models\n",
        "from keras.optimizers import Adam\n",
        "from keras.losses import MeanSquaredError\n",
        "\n",
        "import matplotlib.pyplot as plt\n",
        "import matplotlib.patches as patches"
      ]
    },
    {
      "cell_type": "markdown",
      "metadata": {
        "id": "1SEFwwAjntm0"
      },
      "source": [
        "## Class Stype"
      ]
    },
    {
      "cell_type": "code",
      "execution_count": null,
      "metadata": {
        "colab": {
          "base_uri": "https://localhost:8080/"
        },
        "id": "sKA6j6BFn_YW",
        "outputId": "893d095e-ba47-49ce-fe69-2937487f10f7"
      },
      "outputs": [
        {
          "output_type": "stream",
          "name": "stdout",
          "text": [
            "Mounted at /content/drive\n"
          ]
        }
      ],
      "source": [
        "from google.colab import drive\n",
        "drive.mount('/content/drive')"
      ]
    },
    {
      "cell_type": "code",
      "execution_count": null,
      "metadata": {
        "id": "joBWJzkvar8p"
      },
      "outputs": [],
      "source": [
        "dir_path = \"/content/drive/MyDrive/Year 4/Deep Learning/Final Project\""
      ]
    },
    {
      "cell_type": "code",
      "execution_count": null,
      "metadata": {
        "id": "YycalTE7oHhb"
      },
      "outputs": [],
      "source": [
        "trainDataPath = \"/content/drive/MyDrive/Year 4/Deep Learning/Final Project/train.npz\"\n",
        "validDataPath = \"/content/drive/MyDrive/Year 4/Deep Learning/Final Project/valid.npz\""
      ]
    },
    {
      "cell_type": "code",
      "execution_count": null,
      "metadata": {
        "id": "OAZQzpHw1sfW"
      },
      "outputs": [],
      "source": [
        "trainData = np.load(trainDataPath)\n",
        "#validData = np.load(validDataPath)"
      ]
    },
    {
      "cell_type": "code",
      "execution_count": null,
      "metadata": {
        "id": "LocVmnVM2HOp"
      },
      "outputs": [],
      "source": [
        "train_inputs = trainData['inputs']\n",
        "#train_classifications = 0 #trainData['classifications']\n",
        "train_bboxes = trainData['bboxes']"
      ]
    },
    {
      "cell_type": "code",
      "execution_count": null,
      "metadata": {
        "id": "Vh3QvF7LPkU3"
      },
      "outputs": [],
      "source": [
        "def accuracy_fnc(labels, logits):\n",
        "\n",
        "    correct_predictions = tf.equal(tf.argmax(logits, 1), tf.argmax(labels, 1))\n",
        "    return tf.reduce_mean(tf.cast(correct_predictions, tf.float32))"
      ]
    },
    {
      "cell_type": "code",
      "execution_count": null,
      "metadata": {
        "id": "A5t1GyDlnypS"
      },
      "outputs": [],
      "source": [
        "class Overfeat(tf.keras.Model):\n",
        "    def __init__(self):\n",
        "        super().__init__()\n",
        "\n",
        "        self.forward = tf.keras.Sequential([layers.Conv2D(filters=32, kernel_size=11, strides=4, activation='relu'),\n",
        "                                           layers.MaxPooling2D(pool_size=2, strides=2),\n",
        "                                           layers.Conv2D(filters=64, kernel_size=5, strides=1, activation='relu'),\n",
        "                                           layers.MaxPooling2D(pool_size=2, strides=2),\n",
        "                                           layers.Conv2D(filters=128, kernel_size=3, strides=1, padding='same', activation='relu'),\n",
        "                                           layers.Conv2D(filters=128, kernel_size=3, strides=1, padding='same', activation='relu'),\n",
        "                                           layers.Conv2D(filters=256, kernel_size=3, strides=1, padding='same', activation='relu'),\n",
        "                                           layers.MaxPooling2D(pool_size=2, strides=2),\n",
        "                                           ], name = 'Overfeat')\n",
        "\n",
        "    def call(self, inputs, training = False):\n",
        "        return self.forward(inputs)"
      ]
    },
    {
      "cell_type": "code",
      "execution_count": null,
      "metadata": {
        "id": "CGPof_r4n1R2"
      },
      "outputs": [],
      "source": [
        "class Classifier(tf.keras.Model):\n",
        "    def __init__(self, num_classes):\n",
        "        super().__init__()\n",
        "\n",
        "        self.num_classes = num_classes\n",
        "\n",
        "        self.forward = tf.keras.Sequential([layers.Flatten(),\n",
        "                                            layers.Dense(units=385, activation='relu'),\n",
        "                                            layers.Dropout(0.5),\n",
        "                                            layers.Dense(units=512, activation='relu'),\n",
        "                                            layers.Dropout(0.5),\n",
        "                                            layers.Dense(units=self.num_classes, activation='softmax')\n",
        "                                            ], name = 'Classifier')\n",
        "    def call(self, inputs, training = False):\n",
        "\n",
        "      return self.forward(inputs)\n"
      ]
    },
    {
      "cell_type": "code",
      "execution_count": null,
      "metadata": {
        "id": "9L-YggqKn4cX"
      },
      "outputs": [],
      "source": [
        "def train_classification(overfeat, classifier, train_inputs, train_labels, optimizer, batch_size, loss_fnc, acc_fnc, epochs = 10):\n",
        "    loss_list = []\n",
        "\n",
        "    for e in range(epochs):\n",
        "        indices = np.arange(train_inputs.shape[0])\n",
        "        indices = tf.random.shuffle(indices)\n",
        "\n",
        "        inputs = tf.gather(train_inputs, indices)\n",
        "        labels = tf.gather(train_labels, indices)\n",
        "\n",
        "        batch_num = inputs.shape[0] // batch_size\n",
        "        for b, b1 in enumerate(range(batch_size, inputs.shape[0] + 1, batch_size)):\n",
        "            b0 = b1 - batch_size\n",
        "            batch_inputs = inputs[b0:b1, :, :, :]\n",
        "            batch_labels = labels[b0:b1, :]\n",
        "\n",
        "            batch_inputs = tf.image.random_flip_left_right(batch_inputs)\n",
        "\n",
        "            with tf.GradientTape() as tape:\n",
        "                overfeat_out = overfeat(batch_inputs)\n",
        "\n",
        "                logits = classifier(overfeat_out)\n",
        "\n",
        "                logits = classifier(overfeat_out)\n",
        "\n",
        "                loss = loss_fnc(batch_labels, logits)\n",
        "\n",
        "\n",
        "            all_weights = classifier.trainable_weights + overfeat.trainable_weights\n",
        "            gradients = tape.gradient(loss, all_weights)\n",
        "            optimizer.apply_gradients(zip( gradients, all_weights ))\n",
        "\n",
        "        overfeat_out = overfeat(train_inputs)\n",
        "        logits = classifier(overfeat_out)\n",
        "\n",
        "        loss = loss_fnc(train_labels, logits)\n",
        "        accuracy = acc_fnc(train_labels, logits)\n",
        "        print(f\"epoch {e}: train_loss = {loss}, train_acc = {accuracy}\")\n",
        "\n",
        "        loss_list.append(loss)"
      ]
    },
    {
      "cell_type": "code",
      "execution_count": null,
      "metadata": {
        "colab": {
          "base_uri": "https://localhost:8080/"
        },
        "id": "CAqL2HXYn68i",
        "outputId": "a101c295-c1d8-4688-f1eb-8917a35955d1"
      },
      "outputs": [
        {
          "name": "stderr",
          "output_type": "stream",
          "text": [
            "WARNING:tensorflow:No training configuration found in save file, so the model was *not* compiled. Compile it manually.\n",
            "WARNING:tensorflow:No training configuration found in save file, so the model was *not* compiled. Compile it manually.\n"
          ]
        }
      ],
      "source": [
        "overfeat = tf.keras.models.load_model(dir_path + \"/overfeat3\") #Overfeat()\n",
        "classifier = tf.keras.models.load_model(dir_path + \"/classifier3\")  #Classifier(3)"
      ]
    },
    {
      "cell_type": "code",
      "execution_count": null,
      "metadata": {
        "id": "BFPmtYieMSBX"
      },
      "outputs": [],
      "source": [
        "train_inputs = tf.convert_to_tensor(train_inputs, dtype = float) #tf.convert_to_tensor(imagesTrain, dtype=float)\n",
        "train_classifications = tf.convert_to_tensor(train_classifications, dtype = float) #tf.convert_to_tensor( classificationTrain, dtype = float)"
      ]
    },
    {
      "cell_type": "code",
      "execution_count": null,
      "metadata": {
        "id": "-KwG9vsE3Mq8"
      },
      "outputs": [],
      "source": [
        "batch_size = 128\n",
        "loss_fnc = tf.keras.losses.CategoricalCrossentropy()\n",
        "acc_fnc = accuracy_fnc\n",
        "optimizer = tf.keras.optimizers.Adam(learning_rate = 0.0005)"
      ]
    },
    {
      "cell_type": "code",
      "execution_count": null,
      "metadata": {
        "colab": {
          "base_uri": "https://localhost:8080/"
        },
        "id": "cOF3DJvK3P_-",
        "outputId": "ac9632bb-b555-4a07-9b1c-16480e7a03f9"
      },
      "outputs": [
        {
          "name": "stdout",
          "output_type": "stream",
          "text": [
            "epoch 0: train_loss = 0.22686532139778137, train_acc = 0.9240707159042358\n",
            "epoch 1: train_loss = 0.22113963961601257, train_acc = 0.9351767897605896\n",
            "epoch 2: train_loss = 0.17967988550662994, train_acc = 0.9424297213554382\n",
            "epoch 3: train_loss = 0.17919743061065674, train_acc = 0.9388032555580139\n",
            "epoch 4: train_loss = 0.16165848076343536, train_acc = 0.9451496005058289\n",
            "epoch 5: train_loss = 0.16316606104373932, train_acc = 0.9433363676071167\n",
            "epoch 6: train_loss = 0.1338234692811966, train_acc = 0.9524025321006775\n",
            "epoch 7: train_loss = 0.1370449811220169, train_acc = 0.9576156139373779\n",
            "epoch 8: train_loss = 0.14393958449363708, train_acc = 0.9487760663032532\n",
            "epoch 9: train_loss = 0.15920068323612213, train_acc = 0.949002742767334\n"
          ]
        }
      ],
      "source": [
        "train_classification(overfeat, classifier, train_inputs, train_classifications, optimizer, batch_size, loss_fnc, acc_fnc)"
      ]
    },
    {
      "cell_type": "code",
      "execution_count": null,
      "metadata": {
        "colab": {
          "base_uri": "https://localhost:8080/"
        },
        "id": "xmbEOXtcZOef",
        "outputId": "04d43702-0735-46a6-8752-afe6309844ba"
      },
      "outputs": [
        {
          "name": "stderr",
          "output_type": "stream",
          "text": [
            "WARNING:absl:Found untraced functions such as _jit_compiled_convolution_op, _jit_compiled_convolution_op, _jit_compiled_convolution_op, _jit_compiled_convolution_op, _jit_compiled_convolution_op while saving (showing 5 of 5). These functions will not be directly callable after loading.\n"
          ]
        }
      ],
      "source": [
        "overfeat.save(dir_path + \"/overfeat3\")"
      ]
    },
    {
      "cell_type": "code",
      "execution_count": null,
      "metadata": {
        "id": "e4Y5qIUpa4vC"
      },
      "outputs": [],
      "source": [
        "classifier.save(dir_path + \"/classifier3\")"
      ]
    },
    {
      "cell_type": "markdown",
      "metadata": {
        "id": "m1eWKaXuYFvL"
      },
      "source": [
        "## Evaluation"
      ]
    },
    {
      "cell_type": "code",
      "execution_count": null,
      "metadata": {
        "id": "wikGcLy_YE9u"
      },
      "outputs": [],
      "source": [
        "validData = np.load(validDataPath)"
      ]
    },
    {
      "cell_type": "code",
      "execution_count": null,
      "metadata": {
        "id": "yq3SD_IkYl43"
      },
      "outputs": [],
      "source": [
        "valid_inputs = validData['inputs']\n",
        "valid_classifications = validData['classifications']"
      ]
    },
    {
      "cell_type": "code",
      "execution_count": null,
      "metadata": {
        "id": "8PnbD5YRYq7z"
      },
      "outputs": [],
      "source": [
        "overfeat_out = overfeat(train_inputs)\n",
        "logits = classifier(overfeat_out)\n",
        "\n",
        "loss = loss_fnc(train_classifications, logits)\n",
        "accuracy = acc_fnc(train_classifications, logits)"
      ]
    },
    {
      "cell_type": "code",
      "execution_count": null,
      "metadata": {
        "colab": {
          "base_uri": "https://localhost:8080/"
        },
        "id": "G8YIttZuY5F2",
        "outputId": "ccfa4896-76f3-4ebd-d722-e2000dfc5004"
      },
      "outputs": [
        {
          "name": "stdout",
          "output_type": "stream",
          "text": [
            "tf.Tensor(0.94900274, shape=(), dtype=float32)\n"
          ]
        }
      ],
      "source": [
        "print(accuracy)"
      ]
    },
    {
      "cell_type": "markdown",
      "metadata": {
        "id": "nxbDNuw18HJ8"
      },
      "source": [
        "## Training Regression"
      ]
    },
    {
      "cell_type": "code",
      "execution_count": null,
      "metadata": {
        "id": "LCGDqUQb8UzU"
      },
      "outputs": [],
      "source": [
        "class Regression(tf.keras.Model):\n",
        "    def __init__(self):\n",
        "        super().__init__()\n",
        "\n",
        "        self.forward = tf.keras.Sequential([layers.Flatten(),\n",
        "                                            layers.Dense(units=770, activation='relu'),\n",
        "                                            layers.Dense(units=1024, activation='relu'),\n",
        "                                            layers.Dense(units = 4)\n",
        "                                            ], name = 'Regressor')\n",
        "\n",
        "\n",
        "    def call(self, inputs, training=False):\n",
        "\n",
        "        return self.forward(inputs)"
      ]
    },
    {
      "cell_type": "code",
      "execution_count": null,
      "metadata": {
        "id": "hc7fhiyUZPw-"
      },
      "outputs": [],
      "source": [
        "def train_regression(overfeat, regression, train_inputs, train_bboxes, optimizer, batch_size, loss_fnc, epochs = 10):\n",
        "\n",
        "    # Set the base model to not trainable\n",
        "\n",
        "    loss_list = []\n",
        "\n",
        "    for e in range(epochs):\n",
        "        indices = np.arange(train_inputs.shape[0])\n",
        "        indices = tf.random.shuffle(indices)\n",
        "\n",
        "        inputs = tf.gather(train_inputs, indices)\n",
        "        labels = tf.gather(train_bboxes, indices)\n",
        "\n",
        "        batch_num = inputs.shape[0] // batch_size\n",
        "        for b, b1 in enumerate(range(batch_size, inputs.shape[0] + 1, batch_size)):\n",
        "            b0 = b1 - batch_size\n",
        "            batch_inputs = inputs[b0:b1, :, :, :]\n",
        "            batch_labels = labels[b0:b1, :]\n",
        "\n",
        "            with tf.GradientTape() as tape:\n",
        "                overfeat_out = overfeat(batch_inputs)\n",
        "                logits = regression(overfeat_out)\n",
        "\n",
        "                loss = loss_fnc(batch_labels, logits)\n",
        "\n",
        "            all_weights = regression.trainable_weights\n",
        "\n",
        "            gradients = tape.gradient(loss, all_weights)\n",
        "            optimizer.apply_gradients(zip( gradients, all_weights ))\n",
        "\n",
        "        overfeat_out = overfeat(train_inputs)\n",
        "        logits = regression(overfeat_out)\n",
        "\n",
        "        loss = loss_fnc(train_bboxes, logits)\n",
        "\n",
        "        print(f\"epoch {e}: train_loss = {loss}\")\n",
        "\n",
        "        loss_list.append(loss)"
      ]
    },
    {
      "cell_type": "code",
      "execution_count": null,
      "metadata": {
        "id": "3x3peFeM-yRG"
      },
      "outputs": [],
      "source": [
        "batch_size = 128\n",
        "loss_fnc = tf.keras.losses.MeanSquaredError()\n",
        "optimizer = tf.keras.optimizers.Adam(learning_rate = 0.0005)"
      ]
    },
    {
      "cell_type": "code",
      "execution_count": null,
      "metadata": {
        "colab": {
          "base_uri": "https://localhost:8080/"
        },
        "id": "7Qo1yO-D_IaN",
        "outputId": "33f3ec20-84c7-4c9d-f099-2e7379e40593"
      },
      "outputs": [
        {
          "output_type": "stream",
          "name": "stderr",
          "text": [
            "WARNING:tensorflow:No training configuration found in save file, so the model was *not* compiled. Compile it manually.\n"
          ]
        }
      ],
      "source": [
        "overfeat = tf.keras.models.load_model(dir_path + \"/overfeat3\")\n",
        "regression = Regression()\n",
        "\n",
        "train_inputs = tf.convert_to_tensor(train_inputs, dtype = float)\n",
        "train_bboxes = tf.convert_to_tensor(train_bboxes, dtype = float)"
      ]
    },
    {
      "cell_type": "code",
      "execution_count": null,
      "metadata": {
        "colab": {
          "base_uri": "https://localhost:8080/"
        },
        "id": "srWgLLvq_GLk",
        "outputId": "e8956548-113e-48a0-df8a-ee87f5f2fe0f"
      },
      "outputs": [
        {
          "output_type": "stream",
          "name": "stdout",
          "text": [
            "epoch 0: train_loss = 424.67291259765625\n",
            "epoch 1: train_loss = 424.8111877441406\n",
            "epoch 2: train_loss = 420.08251953125\n",
            "epoch 3: train_loss = 408.17388916015625\n",
            "epoch 4: train_loss = 413.51324462890625\n",
            "epoch 5: train_loss = 403.5064697265625\n",
            "epoch 6: train_loss = 399.8035888671875\n",
            "epoch 7: train_loss = 397.07012939453125\n",
            "epoch 8: train_loss = 399.3522644042969\n",
            "epoch 9: train_loss = 419.1403503417969\n",
            "epoch 10: train_loss = 389.37518310546875\n",
            "epoch 11: train_loss = 387.7330322265625\n",
            "epoch 12: train_loss = 386.2437438964844\n",
            "epoch 13: train_loss = 382.9404602050781\n",
            "epoch 14: train_loss = 383.9167785644531\n",
            "epoch 15: train_loss = 367.07110595703125\n",
            "epoch 16: train_loss = 364.2298278808594\n",
            "epoch 17: train_loss = 362.7608642578125\n",
            "epoch 18: train_loss = 361.27398681640625\n",
            "epoch 19: train_loss = 353.4579772949219\n"
          ]
        }
      ],
      "source": [
        "train_regression(overfeat, regression, train_inputs, train_bboxes, optimizer, batch_size, loss_fnc, epochs = 20)"
      ]
    },
    {
      "cell_type": "code",
      "execution_count": null,
      "metadata": {
        "id": "wP2JN9z2LH-E"
      },
      "outputs": [],
      "source": [
        "regression.save(dir_path + \"/regressor40epochs\")"
      ]
    },
    {
      "cell_type": "markdown",
      "metadata": {
        "id": "74kp32R0Len6"
      },
      "source": [
        "## Validate Regressor"
      ]
    },
    {
      "cell_type": "code",
      "source": [
        "## Garbage collection\n",
        "train_inputs = 0\n",
        "train_bboxes = 0"
      ],
      "metadata": {
        "id": "rHSIdRG5HAG-"
      },
      "execution_count": null,
      "outputs": []
    },
    {
      "cell_type": "code",
      "execution_count": null,
      "metadata": {
        "id": "LMlvL7oVLahq"
      },
      "outputs": [],
      "source": [
        "validData = np.load(validDataPath)"
      ]
    },
    {
      "cell_type": "code",
      "execution_count": null,
      "metadata": {
        "id": "Ut994CxXLahs"
      },
      "outputs": [],
      "source": [
        "valid_inputs = validData['inputs']\n",
        "valid_bboxes = validData['bboxes']"
      ]
    },
    {
      "cell_type": "code",
      "execution_count": null,
      "metadata": {
        "id": "AznEFPdtLpS2"
      },
      "outputs": [],
      "source": [
        "valid_inputs = tf.convert_to_tensor(valid_inputs, dtype = float)\n",
        "valid_bboxes = tf.convert_to_tensor(valid_bboxes, dtype = float)"
      ]
    },
    {
      "cell_type": "code",
      "execution_count": null,
      "metadata": {
        "id": "LIMVzRwiLahu",
        "colab": {
          "base_uri": "https://localhost:8080/"
        },
        "outputId": "296b0845-3037-4f88-97d1-4c651791d62e"
      },
      "outputs": [
        {
          "output_type": "stream",
          "name": "stdout",
          "text": [
            "tf.Tensor(444.44836, shape=(), dtype=float32)\n"
          ]
        }
      ],
      "source": [
        "overfeat_out = overfeat(valid_inputs)\n",
        "logits = regression(overfeat_out)\n",
        "\n",
        "loss = loss_fnc(valid_bboxes, logits)\n",
        "print(loss)"
      ]
    },
    {
      "cell_type": "code",
      "execution_count": null,
      "metadata": {
        "id": "g786ti7mMAmx"
      },
      "outputs": [],
      "source": [
        "valid_inputs = valid_inputs.numpy()\n",
        "valid_bboxes = valid_bboxes.numpy()\n",
        "bboxes_predicted = logits.numpy()"
      ]
    },
    {
      "cell_type": "code",
      "execution_count": null,
      "metadata": {
        "colab": {
          "base_uri": "https://localhost:8080/"
        },
        "id": "iNFhm1L7NyIp",
        "outputId": "2348ecf5-6103-4534-ea9f-e5a6968ad5b7"
      },
      "outputs": [
        {
          "data": {
            "text/plain": [
              "(282, 4)"
            ]
          },
          "execution_count": 41,
          "metadata": {},
          "output_type": "execute_result"
        }
      ],
      "source": [
        "valid_bboxes.shape"
      ]
    },
    {
      "cell_type": "code",
      "execution_count": null,
      "metadata": {
        "colab": {
          "base_uri": "https://localhost:8080/",
          "height": 1000
        },
        "id": "JN2DoxOTLahv",
        "outputId": "c1c935b2-859a-49bb-a3d8-a9249690865c"
      },
      "outputs": [
        {
          "data": {
            "text/plain": [
              "<Figure size 1920x1440 with 0 Axes>"
            ]
          },
          "metadata": {},
          "output_type": "display_data"
        },
        {
          "data": {
            "image/png": "[encoded data removed]",
            "text/plain": [
              "<Figure size 1500x1500 with 1 Axes>"
            ]
          },
          "metadata": {},
          "output_type": "display_data"
        }
      ],
      "source": [
        "img_num = 23\n",
        "\n",
        "img = valid_inputs[img_num, :, :, :]\n",
        "bbox_predicted = bboxes_predicted[img_num, :]\n",
        "bbox_valid = valid_bboxes[img_num, :]\n",
        "\n",
        "plt.figure(dpi = 300)\n",
        "\n",
        "fig, ax = plt.subplots(1, figsize=(15, 15))\n",
        "\n",
        "ax.imshow(img)\n",
        "\n",
        "xy_predicted = (bbox_predicted[0], bbox_predicted[1])\n",
        "width_predicted = bbox_predicted[2]\n",
        "height_predicted = bbox_predicted[3]\n",
        "rect_predicted = patches.Rectangle(xy_predicted, width_predicted, height_predicted, linewidth=2, \\\n",
        "                         fill = False, color = 'red')\n",
        "\n",
        "xy_valid = (bbox_valid[0], bbox_valid[1])\n",
        "width_valid = bbox_valid[2]\n",
        "height_valid = bbox_valid[3]\n",
        "rect_valid = patches.Rectangle(xy_valid, width_valid, height_valid, linewidth=2, \\\n",
        "                         fill = False, color = 'green')\n",
        "\n",
        "\n",
        "\n",
        "ax.add_patch(rect_predicted)\n",
        "ax.add_patch(rect_valid)\n",
        "\n",
        "plt.show()"
      ]
    },
    {
      "cell_type": "code",
      "execution_count": null,
      "metadata": {
        "id": "yMTCpPAl3f8e"
      },
      "outputs": [],
      "source": [
        "# Calculate intersection coordinates\n",
        "x1_intersection = max(bbox_predicted[0], bbox_valid[0])\n",
        "y1_intersection = max(bbox_predicted[1], bbox_valid[1])\n",
        "x2_intersection = min(bbox_predicted[0] + bbox_predicted[2], bbox_valid[0] + bbox_valid[2])\n",
        "y2_intersection = min(bbox_predicted[1] + bbox_predicted[3], bbox_valid[1] + bbox_valid[3])\n",
        "\n",
        "# Calculate intersection area\n",
        "intersection_area = max(0, x2_intersection - x1_intersection) * max(0, y2_intersection - y1_intersection)\n",
        "\n",
        "# Calculate union area\n",
        "bbox_predicted_area = bbox_predicted[2] * bbox_predicted[3]\n",
        "bbox_valid_area = bbox_valid[2] * bbox_valid[3]\n",
        "union_area = bbox_predicted_area + bbox_valid_area - intersection_area\n",
        "\n",
        "# Calculate IoU\n",
        "IoU = intersection_area / union_area\n",
        "\n",
        "print(\"IoU:\", IoU)"
      ]
    },
    {
      "cell_type": "markdown",
      "metadata": {
        "id": "Q00JBpE38Y9d"
      },
      "source": [
        "Because we will be implementing three different tasks, there should be three different loss functions that can be composited.\n",
        "**Classification**: standard MSE Loss should suffice.\n",
        "**Localization**: the predicted bounding box must match the ground truth by at least 50%. The Loss function to exectute this is called PASCAL criterion for bounding box overlap of union over intersection. In the Combining Predictions section, the paper calls for a match_score function to determine the intersection area of box, and then a box_merge function to average the coordinates of the bounding box."
      ]
    },
    {
      "cell_type": "code",
      "execution_count": null,
      "metadata": {
        "id": "2Qds3U9JUUmc"
      },
      "outputs": [],
      "source": [
        "def match_score(box1, box2):\n",
        "    '''\n",
        "    Purpose: computes the match_score for the bounding boxes. This is the sum of distances between the centers of the two boxes and the intersection.\n",
        "    args: box1 and box2 are four-element tuples (x1, y1, x2, y2).\n",
        "    return: match_score (float): the match score between the two boxes\n",
        "\n",
        "    '''\n",
        "    #take maximum corner of the upper edges of intersection region\n",
        "    x1 = max(box1[0], box2[0])\n",
        "    y1 = max(box1[1], box2[1])\n",
        "    #take minimum corner of the lower edges of intersection region\n",
        "    x2 = min(box1[2], box2[2])\n",
        "    y2 = min(box1[3], box2[3])\n",
        "    #calculate intersection area (hence multiplication) of the two bounding boxes. If no intersection, then 0\n",
        "    #the +1 ensures that the intersection area is positive if chosen\n",
        "    intersection_area = max(0, x2 - x1 + 1) * max(0, y2 - y1 + 1)\n",
        "    #centers of boxes is average of x and y coords\n",
        "    box1_center = np.array([(box1[0] + box1[2]) / 2, (box1[1] + box1[3]) / 2])\n",
        "    box2_center = np.array([(box2[0] + box2[2]) / 2, (box2[1] + box2[3]) / 2])\n",
        "    #find the euclidean distance of these center points\n",
        "    center_distance = np.linalg.norm(box1_center - box2_center)\n",
        "    #match_score is sum of distance and interestion\n",
        "    match_score = center_distance + intersection_area\n",
        "    return match_score"
      ]
    },
    {
      "cell_type": "code",
      "execution_count": null,
      "metadata": {
        "id": "CrVgHZU0fg95"
      },
      "outputs": [],
      "source": [
        "def box_merge(boxes):\n",
        "    \"\"\"\n",
        "    Purpose: computes the average of the bounding boxes' coordinates.\n",
        "    Args: a list of bounding boxes, each represented as a tuple (xmin, ymin, xmax, ymax)\n",
        "    Returns: merged_box (tuple, a merged bounding box represented as a tuple (xmin, ymin, xmax, ymax)\n",
        "    \"\"\"\n",
        "    #basically average each coordinate in all the boxes\n",
        "    xmin = np.mean([box[0] for box in boxes])\n",
        "    ymin = np.mean([box[1] for box in boxes])\n",
        "    xmax = np.mean([box[2] for box in boxes])\n",
        "    ymax = np.mean([box[3] for box in boxes])\n",
        "    merged_box = (xmin, ymin, xmax, ymax)\n",
        "    return merged_box"
      ]
    },
    {
      "cell_type": "code",
      "execution_count": null,
      "metadata": {
        "id": "dydkklk9IInR"
      },
      "outputs": [],
      "source": [
        "def combine_predictions(predictions, threshold=0.5):\n",
        "    \"\"\"\n",
        "    Combines the individual predictions of the object detection model to obtain the final prediction.\n",
        "\n",
        "    Args:\n",
        "    - predictions (dict): A dictionary with the following keys:\n",
        "                          - \"class_scores\": An array containing the detection class scores\n",
        "                          - \"bounding_boxes\": An array containing the predicted bounding boxes\n",
        "    - threshold (float): The threshold for the match score below which bounding boxes are merged\n",
        "\n",
        "    Returns:\n",
        "    - merged_boxes (dict): A dictionary with the following keys:\n",
        "                           - \"class_scores\": An array containing the detection class scores for each object\n",
        "                           - \"bounding_boxes\": An array containing the merged bounding boxes for each object\n",
        "    \"\"\"\n",
        "\n",
        "    class_scores = predictions[\"class_scores\"].numpy()\n",
        "    bounding_boxes = predictions[\"bounding_boxes\"].numpy()\n",
        "\n",
        "    merged_class_scores = []\n",
        "    merged_bounding_boxes = []\n",
        "\n",
        "    # Step 1: Gather the set of bounding boxes predicted by the regressor network for each class\n",
        "    for c in range(class_scores.shape[1]):\n",
        "        indices = np.where(class_scores[:, c] >= threshold)[0]\n",
        "\n",
        "        # This makes sure that our number of class scores is the same as the number of bounding boxes\n",
        "        indices = indices[indices < len(bounding_boxes)]\n",
        "\n",
        "        if len(indices) == 0:\n",
        "            continue\n",
        "\n",
        "        boxes = bounding_boxes[indices]\n",
        "        class_scores_c = class_scores[indices, c]\n",
        "\n",
        "        # Remove duplicate boxes and update corresponding class scores\n",
        "        unique_boxes, unique_indices = np.unique(boxes, axis=0, return_index=True)\n",
        "        unique_class_scores_c = class_scores_c[unique_indices]\n",
        "\n",
        "        # Replace boxes and class_scores_c with unique values\n",
        "        boxes = unique_boxes\n",
        "        class_scores_c = unique_class_scores_c\n",
        "\n",
        "\n",
        "        # Step 2: Merge the overlapping bounding boxes using a greedy strategy\n",
        "        while len(boxes) > 1:\n",
        "            match_scores = np.zeros((len(boxes), len(boxes)))\n",
        "            for i in range(len(boxes)):\n",
        "                for j in range(i+1, len(boxes)):\n",
        "                    match_scores[i,j] = match_score(boxes[i], boxes[j])\n",
        "\n",
        "            highest_match_score = np.max(match_scores)\n",
        "            i, j = np.where(match_scores == highest_match_score)\n",
        "            i, j = i[0], j[0]  # Extract the first index values\n",
        "            #print(\"Match scores matrix:\", match_scores)\n",
        "            #print(\"Lowest match score:\", match_scores[i, j])\n",
        "            #print(\"Box i:\", boxes[i])\n",
        "            #print(\"Box j:\", boxes[j])\n",
        "\n",
        "\n",
        "            if match_scores[i,j] < threshold:\n",
        "                break\n",
        "\n",
        "            new_box = box_merge([boxes[i], boxes[j]])\n",
        "            #print(\"Combined box:\", new_box)\n",
        "\n",
        "            new_score = class_scores_c[i] + class_scores_c[j]\n",
        "\n",
        "            boxes = np.concatenate([boxes[:i], boxes[i+1:j], boxes[j+1:], [new_box]])\n",
        "            class_scores_c = np.concatenate([class_scores_c[:i], class_scores_c[i+1:j], class_scores_c[j+1:], [new_score]])\n",
        "            #print(len(boxes))\n",
        "        # Step 3: Select the merged bounding boxes with the highest class scores\n",
        "        best_boxes_indices = np.argsort(-class_scores_c)\n",
        "        merged_class_scores.append(class_scores_c[best_boxes_indices])\n",
        "        merged_bounding_boxes.append(boxes[best_boxes_indices])\n",
        "\n",
        "\n",
        "    merged_boxes = {\"class_scores\": np.concatenate(merged_class_scores), \"bounding_boxes\": np.concatenate(merged_bounding_boxes)}\n",
        "    print(\"Shape of merged bounding boxes:\", merged_boxes[\"bounding_boxes\"].shape)\n",
        "    print(\"example of Merged bounding boxes:\", merged_boxes[\"bounding_boxes\"][0])\n",
        "\n",
        "    return merged_boxes\n"
      ]
    },
    {
      "cell_type": "markdown",
      "metadata": {
        "id": "RH0v-9p9Npfi"
      },
      "source": [
        "Model Outline"
      ]
    },
    {
      "cell_type": "code",
      "execution_count": null,
      "metadata": {
        "id": "ZzHkiCV5NrGA"
      },
      "outputs": [],
      "source": [
        "def create_fast_model(input_shape=(256, 256, 3), num_classes=1000):\n",
        "    # Layers 1-5\n",
        "    inputs = layers.Input(shape=input_shape)\n",
        "    x = layers.Conv2D(filters=96, kernel_size=11, strides=4, activation='relu')(inputs)\n",
        "    x = layers.MaxPooling2D(pool_size=2, strides=2)(x)\n",
        "    x = layers.Conv2D(filters=256, kernel_size=5, strides=1, activation='relu')(x)\n",
        "    x = layers.MaxPooling2D(pool_size=2, strides=2)(x)\n",
        "    x = layers.Conv2D(filters=512, kernel_size=3, strides=1, padding='same', activation='relu')(x)\n",
        "    x = layers.Conv2D(filters=1024, kernel_size=3, strides=1, padding='same', activation='relu')(x)\n",
        "    x = layers.Conv2D(filters=1024, kernel_size=3, strides=1, padding='same', activation='relu')(x)\n",
        "    x = layers.MaxPooling2D(pool_size=2, strides=2)(x)\n",
        "\n",
        "    # Layers 6-8 as a separate modular model\n",
        "    def create_classifier(input_shape):\n",
        "        inputs = layers.Input(shape=input_shape)\n",
        "        x = layers.Flatten()(inputs)\n",
        "        x = layers.Dense(units=3072, activation='relu')(x)\n",
        "        x = layers.Dropout(0.5)(x)\n",
        "        x = layers.Dense(units=4096, activation='relu')(x)\n",
        "        x = layers.Dropout(0.5)(x)\n",
        "        outputs = layers.Dense(units=num_classes, activation='softmax')(x)\n",
        "        model = models.Model(inputs=inputs, outputs=outputs)\n",
        "        return model\n",
        "\n",
        "    # Create classifier model with fixed input shape\n",
        "    classifier_input_shape = x.shape[1:]\n",
        "    classifier = create_classifier(classifier_input_shape)\n",
        "\n",
        "    # Connect classifier to base model\n",
        "    x = classifier(x)\n",
        "\n",
        "    # Create final model\n",
        "    model = models.Model(inputs=inputs, outputs=x)\n",
        "\n",
        "    return model\n"
      ]
    },
    {
      "cell_type": "markdown",
      "metadata": {
        "id": "X3Kj3ws4JqyG"
      },
      "source": [
        "Here is my go at making the sliding window that had modular components still"
      ]
    },
    {
      "cell_type": "code",
      "execution_count": null,
      "metadata": {
        "id": "0ZyToU-sJqZs"
      },
      "outputs": [],
      "source": [
        "def create_sliding_window_model(input_shape=(221, 221, 3), num_classes=1000, scales=[1.0, 0.875, 0.75, 0.66, 0.5, 0.33]):\n",
        "    # Base model (layers 1-5)\n",
        "    def create_base_model(input_layer):\n",
        "        x = Conv2D(96, kernel_size=(11, 11), strides=(4, 4), activation='relu', padding='valid')(input_layer)\n",
        "        x = MaxPooling2D(pool_size=(2, 2), strides=(2, 2))(x)\n",
        "        x = Conv2D(256, kernel_size=(5, 5), activation='relu', padding='same')(x)\n",
        "        x = MaxPooling2D(pool_size=(2, 2), strides=(2, 2))(x)\n",
        "        x = Conv2D(512, kernel_size=(3, 3), activation='relu', padding='same')(x)\n",
        "        x = Conv2D(1024, kernel_size=(3, 3), activation='relu', padding='same')(x)\n",
        "        x = Conv2D(1024, kernel_size=(3, 3), activation='relu', padding='same')(x)\n",
        "        x = MaxPooling2D(pool_size=(3, 3), strides=(1, 1), padding='same')(x)\n",
        "        return x\n",
        "\n",
        "    # Classifier model (layers 6-8)\n",
        "    def create_classifier(input_layer):\n",
        "        y = Flatten()(input_layer)\n",
        "        y = Dense(3072, activation='relu')(y)\n",
        "        y = Dense(4096, activation='relu')(y)\n",
        "        y = Dense(num_classes, activation='softmax')(y)\n",
        "        return y\n",
        "\n",
        "    # Input layer\n",
        "    input_layer = Input(shape=input_shape)\n",
        "\n",
        "    # Create base model\n",
        "    x = create_base_model(input_layer)\n",
        "\n",
        "    # Create classifier model\n",
        "    classifier_output = create_classifier(x)\n",
        "\n",
        "    # Sliding window output\n",
        "    sliding_window_output = []\n",
        "\n",
        "    ##Note the 6 scaling components used\n",
        "    for scale in scales:\n",
        "        # Rescale input\n",
        "        rescaled_input = Input(shape=(int(input_shape[0] * scale), int(input_shape[1] * scale), input_shape[2]))\n",
        "\n",
        "        # Create base model for the rescaled input\n",
        "        rescaled_x = create_base_model(rescaled_input)\n",
        "\n",
        "        # Create pooled maps\n",
        "        pooled_maps = []\n",
        "        for x_offset in range(3):\n",
        "            for y_offset in range(3):\n",
        "                pooled_map = MaxPooling2D(pool_size=(3, 3), strides=(1, 1), padding='valid')(rescaled_x[:, x_offset::3, y_offset::3, :])\n",
        "                pooled_maps.append(pooled_map)\n",
        "\n",
        "        # Concatenate pooled maps\n",
        "        pooled_maps = Concatenate()(pooled_maps)\n",
        "\n",
        "        # Apply classifier model to pooled_maps\n",
        "        output_map = create_classifier(pooled_maps)\n",
        "\n",
        "        # Append output_map to sliding_window_output\n",
        "        sliding_window_output.append(output_map)\n",
        "\n",
        "    # Concatenate output maps from different scales\n",
        "    y = Concatenate()(sliding_window_output)\n",
        "\n",
        "    # Create the sliding window model\n",
        "    model = Model(inputs=input_layer, outputs=y)\n",
        "\n",
        "    return model"
      ]
    },
    {
      "cell_type": "markdown",
      "metadata": {
        "id": "eYwVVvPNKSAQ"
      },
      "source": [
        "Here is regression component that we then train with L2 loss between predicted and true bounding box coordinates and integrate with sliding window model. During prediction, we are supposed to run both networks simultaneously and combine their results to generate the final object detections. I chose Single Class Regression (rather than per class regression) so we only need to look at one bounding box when evaluating our model. It also performed the best according to the paper, so let's try it."
      ]
    },
    {
      "cell_type": "code",
      "execution_count": null,
      "metadata": {
        "id": "6Kgdno0ZKQUN"
      },
      "outputs": [],
      "source": [
        "\n",
        "def create_regression_network(input_shape, num_classes=1000):\n",
        "    input_layer = Input(shape=input_shape)\n",
        "    x = Flatten()(input_layer)\n",
        "    x = Dense(4096, activation='relu')(x)\n",
        "    x = Dense(1024, activation='relu')(x)\n",
        "\n",
        "    # Create class-specific output layers\n",
        "    #if i want single class regressiong then use:\n",
        "    #must be 4 if we are using single class\n",
        "    output = Dense(4, activation='linear')(x)\n",
        "    #if i want a PCR; per class regression. This will require other edits in handling our bounding box\n",
        "    #output_layers = [Dense(4, activation='linear', name=f'bbox_{i}')(x) for i in range(num_classes)]\n",
        "\n",
        "    # Concatenate output layers\n",
        "    #output = Concatenate()(output_layers)\n",
        "\n",
        "    model = Model(inputs=input_layer, outputs=output)\n",
        "\n",
        "    return model"
      ]
    },
    {
      "cell_type": "markdown",
      "metadata": {
        "id": "eQLsHaoa1pLq"
      },
      "source": [
        "How i am trying to evaluate the model."
      ]
    },
    {
      "cell_type": "code",
      "execution_count": null,
      "metadata": {
        "id": "OSSmk8Cr1roI"
      },
      "outputs": [],
      "source": [
        "def iou(box1, box2):\n",
        "    xmin1, ymin1, xmax1, ymax1 = box1[0], box1[1], box1[0] + box1[2], box1[1] + box1[3]\n",
        "    xmin2, ymin2, xmax2, ymax2 = box2[0], box2[1], box2[0] + box2[2], box2[1] + box2[3]\n",
        "\n",
        "    x1 = max(xmin1, xmin2)\n",
        "    y1 = max(ymin1, ymin2)\n",
        "    x2 = min(xmax1, xmax2)\n",
        "    y2 = min(ymax1, ymax2)\n",
        "\n",
        "    intersection_area = max(0, x2 - x1) * max(0, y2 - y1)\n",
        "    box1_area = box1[2] * box1[3]\n",
        "    box2_area = box2[2] * box2[3]\n",
        "\n",
        "    union_area = box1_area + box2_area - intersection_area\n",
        "    return intersection_area / union_area\n",
        "\n",
        "\n",
        "def evaluate_model(overfeat, classifier, regression, valid_inputs, valid_classifications, valid_bboxes, threshold=0.5):\n",
        "    overfeat_out = overfeat(valid_inputs).numpy()\n",
        "    y_pred_classification = classifier(overfeat_out).numpy()\n",
        "    y_pred_regression = regression(overfeat_out).numpy()\n",
        "\n",
        "\n",
        "    n_classes = y_pred_classification.shape[1]\n",
        "    y_pred_classification = tf.reshape(y_pred_classification, (-1, n_classes))\n",
        "\n",
        "\n",
        "\n",
        "    predictions = {\n",
        "        \"class_scores\": y_pred_classification,\n",
        "        \"bounding_boxes\": tf.reshape(y_pred_regression, (-1, 4))\n",
        "    }\n",
        "    print('check evaluate model, classification shape ', y_pred_classification)\n",
        "    print('check evaluate model, bbox shape ', y_pred_regression)\n",
        "    #print(\"Shape of 'class_scores':\", predictions[\"class_scores\"].shape)\n",
        "    #print(\"Shape of 'bounding_boxes':\", predictions[\"bounding_boxes\"].shape)\n",
        "\n",
        "    #print(\"\\nExample 'class_scores' values:\")\n",
        "    #print(predictions[\"class_scores\"][:5])  # Print the first 5 class scores\n",
        "\n",
        "    #print(\"\\nExample 'bounding_boxes' values:\")\n",
        "    #print(predictions[\"bounding_boxes\"][:5])  # Print the first 5 bounding boxes\n",
        "\n",
        "\n",
        "    merged_boxes = combine_predictions(predictions)\n",
        "    print('made it out of comb')\n",
        "    truepos = 0\n",
        "    falsepos = 0\n",
        "    falseneg = 0\n",
        "\n",
        "\n",
        "\n",
        "    for gt_boxes, pred_boxes in zip(valid_bboxes, merged_boxes[\"bounding_boxes\"]):\n",
        "        matched_gt_boxes = set()\n",
        "\n",
        "        for i, gt_box in enumerate(gt_boxes):\n",
        "            if i in matched_gt_boxes:\n",
        "                continue\n",
        "            print(\"pred_box:\", pred_boxes, \"gt_box:\", gt_box)\n",
        "            if iou(pred_boxes, gt_box) >= threshold:\n",
        "                matched_gt_boxes.add(i)\n",
        "                truepos += 1\n",
        "                break\n",
        "        else:\n",
        "            falsepos += 1\n",
        "\n",
        "        falseneg += len(gt_boxes) - len(matched_gt_boxes)\n",
        "\n",
        "    return truepos, falsepos, falseneg\n",
        "\n"
      ]
    },
    {
      "cell_type": "markdown",
      "metadata": {
        "id": "-sW_jdyf3maj"
      },
      "source": [
        "\\Trying to put it all together, this may need a great deal of editing. The regression format may be an issue. Code run, but our training loss is weak and that seems to transpire in the evaluation of the model."
      ]
    },
    {
      "cell_type": "code",
      "execution_count": null,
      "metadata": {
        "id": "NGb2Blf53rrR"
      },
      "outputs": [],
      "source": [
        "\n",
        "import tensorflow as tf\n",
        "import numpy as np\n",
        "from keras.layers import Input, Dense, Concatenate, Conv2D, MaxPooling2D, Flatten, ZeroPadding2D\n",
        "from keras.models import Model\n",
        "from keras import layers, models\n",
        "from keras.optimizers import Adam\n",
        "from keras.losses import MeanSquaredError, CategoricalCrossentropy\n",
        "from model import evaluate_model\n",
        "\n",
        "\n",
        "def accuracy_fnc(labels, logits):\n",
        "    correct_predictions = tf.equal(tf.argmax(logits, 1), tf.argmax(labels, 1))\n",
        "    return tf.reduce_mean(tf.cast(correct_predictions, tf.float32))\n",
        "\n",
        "class Overfeat(tf.keras.Model):\n",
        "    def __init__(self):\n",
        "        super().__init__()\n",
        "\n",
        "        self.forward = tf.keras.Sequential([layers.Conv2D(filters=32, kernel_size=11, strides=4, activation='relu'),\n",
        "                                           layers.MaxPooling2D(pool_size=2, strides=2),\n",
        "                                           layers.Conv2D(filters=64, kernel_size=5, strides=1, activation='relu'),\n",
        "                                           layers.MaxPooling2D(pool_size=2, strides=2),\n",
        "                                           layers.Conv2D(filters=128, kernel_size=3, strides=1, padding='same', activation='relu'),\n",
        "                                           layers.Conv2D(filters=128, kernel_size=3, strides=1, padding='same', activation='relu'),\n",
        "                                           layers.Conv2D(filters=256, kernel_size=3, strides=1, padding='same', activation='relu'),\n",
        "                                           layers.MaxPooling2D(pool_size=2, strides=2),\n",
        "                                           ], name = 'Overfeat')\n",
        "\n",
        "    def call(self, inputs, training = False):\n",
        "        return self.forward(inputs)\n",
        "\n",
        "class Classifier(tf.keras.Model):\n",
        "    def __init__(self, num_classes):\n",
        "        super().__init__()\n",
        "\n",
        "        self.num_classes = num_classes\n",
        "\n",
        "        self.forward = tf.keras.Sequential([layers.Flatten(),\n",
        "                                            layers.Dense(units=385, activation='relu'),\n",
        "                                            layers.Dropout(0.5),\n",
        "                                            layers.Dense(units=512, activation='relu'),\n",
        "                                            layers.Dropout(0.5),\n",
        "                                            layers.Dense(units=self.num_classes, activation='softmax')\n",
        "                                            ], name = 'Classifier')\n",
        "    def call(self, inputs, training = False):\n",
        "      y = self.sliding_window(inputs)\n",
        "\n",
        "      return y\n",
        "\n",
        "    def sliding_window(self, inputs):\n",
        "        # Sliding window output\n",
        "        sliding_window_output = []\n",
        "\n",
        "        # Pad inputs to ensure consistent shape\n",
        "        padded_inputs = ZeroPadding2D(padding=((0, 1), (0, 1)))(inputs)\n",
        "\n",
        "        # Create pooled maps\n",
        "        pooled_maps = []\n",
        "        for x_offset in range(2):\n",
        "            for y_offset in range(2):\n",
        "                pooled_map = MaxPooling2D(pool_size=(2, 2), strides=(1, 1), padding='valid')(padded_inputs[:, x_offset::2, y_offset::2, :])\n",
        "                #print(\"Pooled map shape:\", pooled_map.shape)\n",
        "                pooled_maps.append(pooled_map)\n",
        "\n",
        "        #print(pooled_maps)\n",
        "        # Concatenate pooled maps\n",
        "        pooled_maps = Concatenate()(pooled_maps)\n",
        "\n",
        "        # Apply classifier model to pooled_maps\n",
        "        output_map = self.forward(pooled_maps)\n",
        "\n",
        "        # Append output_map to sliding_window_output\n",
        "        sliding_window_output.append(output_map)\n",
        "\n",
        "        # Concatenate output maps from different scales\n",
        "        y = Concatenate()(sliding_window_output)\n",
        "        return y\n",
        "\n",
        "class Regression(tf.keras.Model):\n",
        "    def __init__(self, num_classes):\n",
        "        super().__init__()\n",
        "\n",
        "        self.num_classes = num_classes\n",
        "\n",
        "        self.flatten = layers.Flatten()\n",
        "        self.dense1 = layers.Dense(4096, activation='relu')\n",
        "        self.dense2 = layers.Dense(1024, activation='relu')\n",
        "\n",
        "        # Create class-specific output layers\n",
        "        self.output_layers = [layers.Dense(4, activation='linear', name=f'bbox_{i}') for i in range(num_classes)]\n",
        "\n",
        "    def call(self, inputs, training=False):\n",
        "        x = self.flatten(inputs)\n",
        "        x = self.dense1(x)\n",
        "        x = self.dense2(x)\n",
        "\n",
        "        # Apply the class-specific output layers\n",
        "        outputs = [output_layer(x) for output_layer in self.output_layers]\n",
        "\n",
        "        # Concatenate output layers\n",
        "        y = layers.Concatenate()(outputs)\n",
        "\n",
        "        return y\n",
        "\n",
        "def rescale_outputs(outputs, scales):\n",
        "    rescaled_outputs = []\n",
        "    for scale in scales:\n",
        "        rescaled_output = tf.image.resize(outputs, (int(outputs.shape[1] * scale), int(outputs.shape[2] * scale)))\n",
        "        rescaled_outputs.append(rescaled_output)\n",
        "    return rescaled_outputs\n",
        "\n",
        "def train_classification(overfeat, classifier, train_inputs, train_labels, optimizer, batch_size, loss_fnc, acc_fnc, epochs = 5):\n",
        "    loss_list = []\n",
        "\n",
        "    for e in range(epochs):\n",
        "        indices = np.arange(train_inputs.shape[0])\n",
        "        indices = tf.random.shuffle(indices)\n",
        "\n",
        "        inputs = tf.gather(train_inputs, indices)\n",
        "        labels = tf.gather(train_labels, indices)\n",
        "\n",
        "        batch_num = inputs.shape[0] // batch_size\n",
        "        for b, b1 in enumerate(range(batch_size, inputs.shape[0] + 1, batch_size)):\n",
        "            b0 = b1 - batch_size\n",
        "            batch_inputs = inputs[b0:b1, :, :, :]\n",
        "            batch_labels = labels[b0:b1, :]\n",
        "\n",
        "            batch_inputs = tf.image.random_flip_left_right(batch_inputs)\n",
        "\n",
        "            with tf.GradientTape() as tape:\n",
        "                overfeat_out = overfeat(batch_inputs)\n",
        "\n",
        "                    # Rescale the outputs of the base model\n",
        "                #rescaled_outputs = rescale_outputs(overfeat_out, scales=[1.0, 0.875, 0.75, 0.66, 0.5, 0.33])\n",
        "\n",
        "                #logits_list = []\n",
        "                #for rescaled_output in rescaled_outputs:\n",
        "                logits = classifier(overfeat_out)\n",
        "                   # logits_list.append(logits)\n",
        "\n",
        "                # Concatenate output maps from different scales\n",
        "                #logits_concatenated = tf.concat(logits_list, axis=1)\n",
        "\n",
        "                #logits = classifier(overfeat_out)\n",
        "\n",
        "                #logits = classifier(overfeat_out)\n",
        "\n",
        "                loss = loss_fnc(batch_labels, logits)\n",
        "\n",
        "\n",
        "            all_weights = classifier.trainable_weights + overfeat.trainable_weights\n",
        "            gradients = tape.gradient(loss, all_weights)\n",
        "            optimizer.apply_gradients(zip( gradients, all_weights ))\n",
        "\n",
        "        overfeat_out = overfeat(train_inputs)\n",
        "        logits = classifier(overfeat_out)\n",
        "\n",
        "        loss = loss_fnc(train_labels, logits)\n",
        "        accuracy = acc_fnc(train_labels, logits)\n",
        "        print(f\"epoch {e}: train_loss = {loss}, train_acc = {accuracy}\")\n",
        "\n",
        "        loss_list.append(loss)\n",
        "\n",
        "def train_regression(overfeat, regression, train_inputs, train_bboxes_with_classes, optimizer, batch_size, loss_fnc, acc_fnc, epochs = 5):\n",
        "\n",
        "    # Set the base model to not trainable\n",
        "    overfeat.trainable = False\n",
        "\n",
        "    loss_list = []\n",
        "\n",
        "    for e in range(epochs):\n",
        "        indices = np.arange(train_inputs.shape[0])\n",
        "        indices = tf.random.shuffle(indices)\n",
        "\n",
        "        inputs = tf.gather(train_inputs, indices)\n",
        "        labels = tf.gather(train_bboxes_with_classes, indices)\n",
        "\n",
        "        batch_num = inputs.shape[0] // batch_size\n",
        "        for b, b1 in enumerate(range(batch_size, inputs.shape[0] + 1, batch_size)):\n",
        "            b0 = b1 - batch_size\n",
        "            batch_inputs = inputs[b0:b1, :, :, :]\n",
        "            batch_labels = labels[b0:b1, :]\n",
        "\n",
        "            batch_inputs = tf.image.random_flip_left_right(batch_inputs)\n",
        "\n",
        "            with tf.GradientTape() as tape:\n",
        "                overfeat_out = overfeat(batch_inputs)\n",
        "\n",
        "                logits = regression(overfeat_out)\n",
        "\n",
        "                loss = loss_fnc(batch_labels, logits)\n",
        "\n",
        "\n",
        "            all_weights = regression.trainable_weights + overfeat.trainable_weights\n",
        "            gradients = tape.gradient(loss, all_weights)\n",
        "            optimizer.apply_gradients(zip( gradients, all_weights ))\n",
        "\n",
        "        overfeat_out = overfeat(train_inputs)\n",
        "        logits = regression(overfeat_out)\n",
        "\n",
        "        loss = loss_fnc(train_bboxes_with_classes, logits)\n",
        "        accuracy = acc_fnc(train_bboxes_with_classes, logits, num_classes =3)\n",
        "        print(f\"epoch {e}: train_loss = {loss}, train_acc = {accuracy}\")\n",
        "\n",
        "        loss_list.append(loss)\n",
        "\n",
        "class CustomMSELoss(tf.keras.losses.Loss):\n",
        "    def __init__(self, num_classes):\n",
        "        super().__init__()\n",
        "        self.num_classes = num_classes\n",
        "\n",
        "    def call(self, y_true, y_pred):\n",
        "        y_true = tf.reshape(y_true, (-1, self.num_classes, 4))\n",
        "        y_pred = tf.reshape(y_pred, (-1, self.num_classes, 4))\n",
        "        mse = tf.keras.losses.mean_squared_error(y_true, y_pred)\n",
        "        return mse\n",
        "\n",
        "def mean_iou(y_true, y_pred, num_classes):\n",
        "    y_true = tf.reshape(y_true, (-1, num_classes, 4))\n",
        "    y_pred = tf.reshape(y_pred, (-1, num_classes, 4))\n",
        "\n",
        "    def calculate_iou(box1, box2):\n",
        "        box1 = tf.cast(box1, tf.float32)\n",
        "        box2 = tf.cast(box2, tf.float32)\n",
        "\n",
        "        x1 = tf.maximum(box1[..., 0], box2[..., 0])\n",
        "        y1 = tf.maximum(box1[..., 1], box2[..., 1])\n",
        "        x2 = tf.minimum(box1[..., 2], box2[..., 2])\n",
        "        y2 = tf.minimum(box1[..., 3], box2[..., 3])\n",
        "\n",
        "        intersection = tf.maximum(x2 - x1, 0) * tf.maximum(y2 - y1, 0)\n",
        "        box1_area = (box1[..., 2] - box1[..., 0]) * (box1[..., 3] - box1[..., 1])\n",
        "        box2_area = (box2[..., 2] - box2[..., 0]) * (box2[..., 3] - box2[..., 1])\n",
        "\n",
        "        union = box1_area + box2_area - intersection\n",
        "        return intersection / union\n",
        "\n",
        "    iou = calculate_iou(y_true, y_pred)\n",
        "    mean_iou = tf.reduce_mean(iou)\n",
        "    return mean_iou\n",
        "\n",
        "def main():\n",
        "\n",
        "    trainPath = \"/Users/oliverkanders/Desktop/csci1470/train.npz\"\n",
        "    train_data = np.load(trainPath)\n",
        "\n",
        "    train_inputs = train_data['inputs']\n",
        "    train_classifications = train_data['classficiations']\n",
        "    train_bboxes = train_data['bboxes']\n",
        "\n",
        "\n",
        "    validPath = \"/Users/oliverkanders/Desktop/csci1470/valid.npz\"\n",
        "    valid_data = np.load(validPath)\n",
        "    valid_inputs = valid_data['inputs']\n",
        "    valid_classifications = valid_data['classficiations']\n",
        "    valid_bboxes = valid_data['bboxes']\n",
        "\n",
        "    print(train_inputs.shape)\n",
        "    print(train_classifications.shape)\n",
        "    print(train_bboxes.shape)\n",
        "\n",
        "\n",
        "    overfeat = Overfeat()\n",
        "    classifier = Classifier(3)\n",
        "    regression = Regression(3)\n",
        "\n",
        "    train_inputs = tf.convert_to_tensor(train_inputs, dtype = float) #tf.convert_to_tensor(train_inputs, dtype=float)\n",
        "    train_classifications = tf.convert_to_tensor(train_classifications, dtype = float) #tf.convert_to_tensor( train_classifications, dtype = float)\n",
        "    train_bboxes = tf.convert_to_tensor(train_bboxes, dtype = float) #tf.convert_to_tensor( train_bboxes, dtype = float)\n",
        "\n",
        "\n",
        "    batch_size = 128\n",
        "    loss_fnc = CategoricalCrossentropy()\n",
        "    acc_fnc = accuracy_fnc\n",
        "    optimizer = Adam()\n",
        "\n",
        "    print('class training')\n",
        "    #train_classification(overfeat, classifier, train_inputs, train_classifications, optimizer, batch_size, loss_fnc, acc_fnc)\n",
        "    #overfeat.save_weights(\"overfeat_weights.h5\")\n",
        "    #classifier.save_weights(\"classifier_weights.h5\")\n",
        "\n",
        "    # Train regression\n",
        "    batch_size = 128\n",
        "    loss_fnc = CustomMSELoss(3)\n",
        "    acc_fnc = mean_iou\n",
        "    optimizer = Adam()\n",
        "    overfeat(train_inputs[:1])\n",
        "\n",
        "    def add_classes_to_boxes(num_classes):\n",
        "        train_bboxes_with_classes = np.zeros((train_bboxes.shape[0], num_classes, 4))\n",
        "        valid_bboxes_with_classes = np.zeros((valid_bboxes.shape[0], num_classes, 4))\n",
        "\n",
        "        for i in range(train_bboxes.shape[0]):\n",
        "            class_index = np.argmax(train_classifications[i])\n",
        "            train_bboxes_with_classes[i, class_index] = train_bboxes[i]\n",
        "\n",
        "        for i in range(valid_bboxes.shape[0]):\n",
        "            class_index = np.argmax(valid_classifications[i])\n",
        "            valid_bboxes_with_classes[i, class_index] = valid_bboxes[i]\n",
        "        return train_bboxes_with_classes, valid_bboxes_with_classes\n",
        "\n",
        "    train_bboxes_with_classes, valid_bboxes_with_classes = add_classes_to_boxes(3)\n",
        "\n",
        "\n",
        "    # Load weights for overfeat, classifier, and regression components\n",
        "    overfeat.load_weights(\"overfeat_weights.h5\")\n",
        "\n",
        "    # Call the classifier model with some sample input to create its variables\n",
        "    _ = classifier(overfeat(train_inputs[:1]))\n",
        "    classifier.load_weights(\"classifier_weights.h5\")\n",
        "\n",
        "    # Call the regression model with some sample input to create its variables\n",
        "    #_ = regression(overfeat(train_inputs[:1]))\n",
        "    #regression.load_weights(\"regression_weights.h5\")\n",
        "\n",
        "    print('regression training')\n",
        "    train_regression(overfeat, regression, train_inputs, train_bboxes_with_classes, optimizer, batch_size, loss_fnc, acc_fnc)\n",
        "\n",
        "    regression.save_weights(\"regression_weights.h5\")\n",
        "\n",
        "\n",
        "    valid_inputs = valid_inputs.numpy() if isinstance(valid_inputs, tf.Tensor) else valid_inputs\n",
        "    valid_classifications = valid_classifications.numpy() if isinstance(valid_classifications, tf.Tensor) else valid_classifications\n",
        "\n",
        "    # Evaluate the model\n",
        "    truepos, falsepos, falseneg = evaluate_model(overfeat, classifier, regression, valid_inputs, valid_classifications, valid_bboxes_with_classes)\n",
        "    precision = truepos / (truepos + falsepos)\n",
        "    recall = truepos / (truepos + falseneg)\n",
        "    error_rate = 1 - precision\n",
        "\n",
        "    print(\"Precision:\", precision)\n",
        "    print(\"Recall:\", recall)\n",
        "    print(\"Error Rate:\", error_rate)\n",
        "\n",
        "    '''\n",
        "    better training\n",
        "    # Train the Overfeat and Classifier models\n",
        "overfeat.compile(optimizer=Adam(lr=1e-4), loss=MeanSquaredError())\n",
        "overfeat.fit(train_inputs, train_labels, epochs=5, batch_size=128)\n",
        "\n",
        "# Save the Overfeat model weights\n",
        "overfeat.save_weights(\"overfeat_weights.h5\")\n",
        "\n",
        "# Load the saved Overfeat model weights\n",
        "overfeat.load_weights(\"overfeat_weights.h5\")\n",
        "\n",
        "# Train the Regression model using the Overfeat model\n",
        "regression.compile(optimizer=Adam(lr=1e-4), loss=MeanSquaredError())\n",
        "regression.fit(overfeat(train_inputs), train_labels, epochs=5, batch_size=128)\n",
        "\n",
        "# Create the combined model\n",
        "combined_input = Input(shape=(221, 221, 3))\n",
        "overfeat_output = overfeat(combined_input)\n",
        "classifier_output = classifier(overfeat_output)\n",
        "regression_output = regression(overfeat_output)\n",
        "combined_model = Model(inputs=combined_input, outputs=[classifier_output, regression_output])\n",
        "\n",
        "# Evaluate the combined model\n",
        "truepos, falsepos, falseneg = evaluate_model(combined_model, X_test, test_file_bboxes)\n",
        "precision = truepos / (truepos + falsepos)\n",
        "recall = truepos / (truepos + falseneg)\n",
        "error_rate = 1 - precision\n",
        "\n",
        "print(\"Precision:\", precision)\n",
        "print(\"Recall:\", recall)\n",
        "print(\"Error Rate:\", error_rate)\n",
        "    '''\n",
        "\n",
        "# call the main function\n",
        "if __name__ == '__main__':\n",
        "    main()"
      ]
    }
  ],
  "metadata": {
    "colab": {
      "provenance": [],
      "include_colab_link": true
    },
    "kernelspec": {
      "display_name": "Python 3",
      "name": "python3"
    },
    "language_info": {
      "name": "python"
    }
  },
  "nbformat": 4,
  "nbformat_minor": 0
}